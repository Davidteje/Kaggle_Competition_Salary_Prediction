{
 "cells": [
  {
   "cell_type": "code",
   "execution_count": null,
   "id": "d7389c30",
   "metadata": {},
   "outputs": [],
   "source": []
  },
  {
   "cell_type": "code",
   "execution_count": null,
   "id": "1f8b33d3",
   "metadata": {},
   "outputs": [],
   "source": [
    "# %pip install scikit-learn\n",
    "# %pip install matplotlib"
   ]
  },
  {
   "cell_type": "code",
   "execution_count": null,
   "id": "2b71926a",
   "metadata": {},
   "outputs": [],
   "source": [
    "import pandas as pd\n",
    "import numpy as np\n",
    "import warnings\n",
    "warnings.filterwarnings('ignore')\n",
    "\n",
    "import pylab as plt\n",
    "import seaborn as sns"
   ]
  },
  {
   "cell_type": "code",
   "execution_count": null,
   "id": "58910d90",
   "metadata": {},
   "outputs": [],
   "source": [
    "df_m = pd.read_csv(r'C:\\Users\\david\\Proyectos\\Local\\Kaggle_Competition\\data\\muestra.csv',encoding='latin1')\n",
    "df_s = pd.read_csv(r'C:\\Users\\david\\Proyectos\\Local\\Kaggle_Competition\\data\\salaries_data.csv',encoding='latin1')\n",
    "df_t = pd.read_csv(r'C:\\Users\\david\\Proyectos\\Local\\Kaggle_Competition\\data\\testeo.csv',encoding='latin1')"
   ]
  },
  {
   "cell_type": "code",
   "execution_count": null,
   "id": "176c28fc",
   "metadata": {},
   "outputs": [],
   "source": [
    "df_s.info()"
   ]
  },
  {
   "cell_type": "code",
   "execution_count": null,
   "id": "38640291",
   "metadata": {},
   "outputs": [],
   "source": [
    "df_s = df_s.drop(['salary'], axis=1)"
   ]
  },
  {
   "cell_type": "code",
   "execution_count": null,
   "id": "6abc2b78",
   "metadata": {},
   "outputs": [],
   "source": [
    "df_t = df_t.drop(['salary'], axis=1)"
   ]
  },
  {
   "cell_type": "code",
   "execution_count": null,
   "id": "42d26890",
   "metadata": {},
   "outputs": [],
   "source": [
    "df_s.describe().T"
   ]
  },
  {
   "cell_type": "code",
   "execution_count": null,
   "id": "30adc146",
   "metadata": {},
   "outputs": [],
   "source": [
    "df_s.corr()"
   ]
  },
  {
   "cell_type": "code",
   "execution_count": null,
   "id": "85f84836",
   "metadata": {},
   "outputs": [],
   "source": [
    "sns.set(style='white')\n",
    "\n",
    "mask=np.triu(np.ones_like(df_s.corr(), dtype=bool))\n",
    "\n",
    "cmap=sns.diverging_palette(0, 10, as_cmap=True)\n",
    "\n",
    "\n",
    "sns.heatmap(df_s.corr(),\n",
    "           mask=mask,\n",
    "          cmap=cmap,\n",
    "          center=0,\n",
    "          square=True,\n",
    "          annot=True,\n",
    "          linewidths=0.5,\n",
    "          cbar_kws={'shrink': 0.5});"
   ]
  },
  {
   "cell_type": "code",
   "execution_count": null,
   "id": "522af262",
   "metadata": {},
   "outputs": [],
   "source": [
    "df_s.shape == df_s.drop_duplicates().shape"
   ]
  },
  {
   "cell_type": "code",
   "execution_count": null,
   "id": "3c830e23",
   "metadata": {},
   "outputs": [],
   "source": [
    "df_s.drop_duplicates().shape"
   ]
  },
  {
   "cell_type": "code",
   "execution_count": null,
   "id": "d0e06f8a",
   "metadata": {},
   "outputs": [],
   "source": [
    "df_s.duplicated()"
   ]
  },
  {
   "cell_type": "code",
   "execution_count": null,
   "id": "58f0c833",
   "metadata": {},
   "outputs": [],
   "source": [
    "df_s[df_s.duplicated(keep=False)]"
   ]
  },
  {
   "cell_type": "code",
   "execution_count": null,
   "id": "ec9fc655",
   "metadata": {},
   "outputs": [],
   "source": [
    "len(df_s[df_s.duplicated(keep=False)])"
   ]
  },
  {
   "cell_type": "code",
   "execution_count": null,
   "id": "5a61aa0b",
   "metadata": {},
   "outputs": [],
   "source": [
    "#df_s = df_s.drop_duplicates()"
   ]
  },
  {
   "cell_type": "code",
   "execution_count": null,
   "id": "9d54c8cd",
   "metadata": {},
   "outputs": [],
   "source": [
    "df_s.shape"
   ]
  },
  {
   "cell_type": "code",
   "execution_count": null,
   "id": "2c6a6f40",
   "metadata": {},
   "outputs": [],
   "source": [
    "df_s.work_year.value_counts()"
   ]
  },
  {
   "cell_type": "code",
   "execution_count": null,
   "id": "97cbd764",
   "metadata": {},
   "outputs": [],
   "source": [
    "df_t.work_year.value_counts()"
   ]
  },
  {
   "cell_type": "code",
   "execution_count": null,
   "id": "c3a007c1",
   "metadata": {},
   "outputs": [],
   "source": [
    "df_s.experience_level.value_counts()"
   ]
  },
  {
   "cell_type": "code",
   "execution_count": null,
   "id": "b42a296b",
   "metadata": {},
   "outputs": [],
   "source": [
    "df_t.experience_level.value_counts()"
   ]
  },
  {
   "cell_type": "code",
   "execution_count": null,
   "id": "33a25b05",
   "metadata": {},
   "outputs": [],
   "source": [
    "df_s.employment_type.value_counts()"
   ]
  },
  {
   "cell_type": "code",
   "execution_count": null,
   "id": "5ef913cd",
   "metadata": {},
   "outputs": [],
   "source": [
    "df_t.employment_type.value_counts()"
   ]
  },
  {
   "cell_type": "markdown",
   "id": "280ee2ba",
   "metadata": {},
   "source": [
    "### COLUMNA JOB TITLE"
   ]
  },
  {
   "cell_type": "code",
   "execution_count": null,
   "id": "575ec277",
   "metadata": {},
   "outputs": [],
   "source": [
    "df_s.job_title.unique()"
   ]
  },
  {
   "cell_type": "code",
   "execution_count": null,
   "id": "d7814acb",
   "metadata": {
    "scrolled": false
   },
   "outputs": [],
   "source": [
    "df_s.job_title.value_counts()"
   ]
  },
  {
   "cell_type": "markdown",
   "id": "cb68acb7",
   "metadata": {},
   "source": [
    "lista=[]\n",
    "\n",
    "for i in df_s.salary_in_usd:\n",
    "    if i < 70000:\n",
    "        lista.append(1)\n",
    "    elif i >= 70000 and i < 110000:\n",
    "        lista.append(2)\n",
    "    elif i >= 110000 and i < 150000:\n",
    "        lista.append(3)\n",
    "    else:\n",
    "        lista.append(4)\n",
    "lista    "
   ]
  },
  {
   "cell_type": "code",
   "execution_count": null,
   "id": "a8593c60",
   "metadata": {},
   "outputs": [],
   "source": [
    "#df_s['salary_level'] = lista"
   ]
  },
  {
   "cell_type": "code",
   "execution_count": null,
   "id": "12264cf2",
   "metadata": {},
   "outputs": [],
   "source": [
    "df_s.columns"
   ]
  },
  {
   "cell_type": "code",
   "execution_count": null,
   "id": "3a10ff68",
   "metadata": {},
   "outputs": [],
   "source": [
    "df_s.employee_residence.value_counts()"
   ]
  },
  {
   "cell_type": "code",
   "execution_count": null,
   "id": "5e5c809f",
   "metadata": {},
   "outputs": [],
   "source": [
    "#sns.distplot(df_s.salary)"
   ]
  },
  {
   "cell_type": "code",
   "execution_count": null,
   "id": "c1578dcc",
   "metadata": {},
   "outputs": [],
   "source": [
    "df_s.salary_currency.value_counts()"
   ]
  },
  {
   "cell_type": "code",
   "execution_count": null,
   "id": "c115a7b2",
   "metadata": {},
   "outputs": [],
   "source": [
    "df_s.salary_in_usd.unique()"
   ]
  },
  {
   "cell_type": "code",
   "execution_count": null,
   "id": "fbcc7b50",
   "metadata": {},
   "outputs": [],
   "source": [
    "df_s.sort_values(by = ['salary_in_usd'], ascending = False).head(10)"
   ]
  },
  {
   "cell_type": "code",
   "execution_count": null,
   "id": "aaf450fc",
   "metadata": {},
   "outputs": [],
   "source": [
    "df_s.employee_residence.value_counts()"
   ]
  },
  {
   "cell_type": "code",
   "execution_count": null,
   "id": "a5ffe208",
   "metadata": {},
   "outputs": [],
   "source": [
    "df_s.remote_ratio.value_counts()"
   ]
  },
  {
   "cell_type": "code",
   "execution_count": null,
   "id": "9fbc0ae1",
   "metadata": {},
   "outputs": [],
   "source": [
    "df_s.company_location.value_counts()"
   ]
  },
  {
   "cell_type": "code",
   "execution_count": null,
   "id": "15b5fbb5",
   "metadata": {},
   "outputs": [],
   "source": [
    "df_s.company_size.value_counts()"
   ]
  },
  {
   "cell_type": "code",
   "execution_count": null,
   "id": "625a5c43",
   "metadata": {},
   "outputs": [],
   "source": [
    "stats = df_s.describe().transpose()\n",
    "stats['IQR'] = stats['75%'] - stats['25%']\n",
    "stats"
   ]
  },
  {
   "cell_type": "code",
   "execution_count": null,
   "id": "e3648ea7",
   "metadata": {},
   "outputs": [],
   "source": [
    "outliers = pd.DataFrame(columns=df_s.columns)\n",
    "for col in stats.index:\n",
    "    iqr = stats.at[col,'IQR']\n",
    "    cutoff = iqr * 1.5\n",
    "    lower = stats.at[col,'25%'] - cutoff\n",
    "    upper = stats.at[col,'75%'] + cutoff\n",
    "    results = df_s[(df_s[col] < lower) |\n",
    "                   (df_s[col] > upper)].copy()\n",
    "    results['Outlier'] = col\n",
    "    outliers = outliers.append(results)\n",
    "outliers"
   ]
  },
  {
   "cell_type": "code",
   "execution_count": null,
   "id": "32eb37ec",
   "metadata": {},
   "outputs": [],
   "source": [
    "len(outliers)"
   ]
  },
  {
   "cell_type": "code",
   "execution_count": null,
   "id": "9b344bfd",
   "metadata": {},
   "outputs": [],
   "source": [
    "outliers.Outlier.value_counts()"
   ]
  },
  {
   "cell_type": "code",
   "execution_count": null,
   "id": "cd745a17",
   "metadata": {},
   "outputs": [],
   "source": [
    "outliers[outliers.Outlier=='salary_in_usd'].index"
   ]
  },
  {
   "cell_type": "code",
   "execution_count": null,
   "id": "3a51e7cb",
   "metadata": {},
   "outputs": [],
   "source": [
    "bad_index = outliers[outliers.Outlier=='salary_in_usd'].index\n",
    "bad_index"
   ]
  },
  {
   "cell_type": "code",
   "execution_count": null,
   "id": "c9fb5a4f",
   "metadata": {},
   "outputs": [],
   "source": [
    "df_s.drop(bad_index, inplace=True)"
   ]
  },
  {
   "cell_type": "code",
   "execution_count": null,
   "id": "53864719",
   "metadata": {},
   "outputs": [],
   "source": [
    "# df_s.drop(bad_index_2, inplace=True)"
   ]
  },
  {
   "cell_type": "code",
   "execution_count": null,
   "id": "22c029b4",
   "metadata": {},
   "outputs": [],
   "source": [
    "df_s.shape"
   ]
  },
  {
   "cell_type": "code",
   "execution_count": null,
   "id": "6fdeb411",
   "metadata": {},
   "outputs": [],
   "source": [
    "lista = []\n",
    "\n",
    "for i in df_s.job_title.unique():\n",
    "\n",
    "    linea = []\n",
    "    linea.append(i)\n",
    "    linea.append(df_s[df_s.job_title==i].salary_in_usd.mean())\n",
    "    linea.append(df_s[df_s.job_title == i].job_title.value_counts()[0])\n",
    "    lista.append(linea)\n",
    "\n",
    "df=pd.DataFrame(lista, columns=['job_title', 'average_salary', 'job_numbers'])\n",
    "df.sort_values('average_salary', ascending=False)"
   ]
  },
  {
   "cell_type": "code",
   "execution_count": null,
   "id": "ddbeb8ce",
   "metadata": {},
   "outputs": [],
   "source": [
    "lista = []\n",
    "\n",
    "for i in df_s.job_title.unique():\n",
    "\n",
    "    linea = []\n",
    "    linea.append(i)\n",
    "    linea.append(df_s[df_s.job_title==i].salary_in_usd.mean())\n",
    "    linea.append(df_s[df_s.job_title == i].job_title.value_counts()[0])\n",
    "    lista.append(linea)\n",
    "\n",
    "df=pd.DataFrame(lista, columns=['job_title', 'average_salary', 'job_numbers'])\n",
    "df.sort_values('average_salary', ascending=False)"
   ]
  },
  {
   "cell_type": "code",
   "execution_count": null,
   "id": "55851402",
   "metadata": {},
   "outputs": [],
   "source": [
    "def limpiar_job_title(x):\n",
    "\n",
    "    if 'Analyst' in x or 'Vision' in x:\n",
    "        return 'Data Analyst'\n",
    "    elif 'Science' in x or 'Scientist' in x or 'Specialist' in x or 'Head' in x or 'Manager' in x:\n",
    "        return 'Data Scientist'\n",
    "    elif 'Engineer' in x or 'Architect' in x or 'Developer' in x:\n",
    "        return 'Data Engineer'\n",
    "    \n",
    "    else:\n",
    "        return x\n"
   ]
  },
  {
   "cell_type": "code",
   "execution_count": null,
   "id": "642c01ed",
   "metadata": {},
   "outputs": [],
   "source": [
    "df_s.job_title = df_s.job_title.apply(limpiar_job_title)"
   ]
  },
  {
   "cell_type": "markdown",
   "id": "9003a981",
   "metadata": {},
   "source": [
    "def limpiar_job_title(x):\n",
    "\n",
    "    if 'Analyst' in x or 'Analytics' in x or 'Vision' in x:\n",
    "        return 'Data Analyst'\n",
    "    elif 'Scientist' in x or 'Science' in x:\n",
    "        return 'Data Scientist'\n",
    "    elif 'Principal' in x or 'Head' in x:\n",
    "        return 'Data Manager'\n",
    "    elif 'Machine' in x:\n",
    "        return 'Machine Learning'\n",
    "    elif 'Engineering' in x or 'Engineer' in x or 'Architect' in x:\n",
    "        return 'Data Engineer'\n",
    "    \n",
    "    #elif 'Machine Learning Engineer' in x:\n",
    "        #return 'Machine Learning'\n",
    "    #elif 'Engineer' in x:\n",
    "        #return 'Data Engineer'\n",
    "    \n",
    "    \n",
    "    \n",
    "    else:\n",
    "        return x"
   ]
  },
  {
   "cell_type": "code",
   "execution_count": null,
   "id": "1a552afe",
   "metadata": {},
   "outputs": [],
   "source": [
    "    df_s.job_title.value_counts()"
   ]
  },
  {
   "cell_type": "markdown",
   "id": "43981f35",
   "metadata": {},
   "source": [
    "def limpiar_job_title(x):\n",
    "\n",
    "    if 'Analyst' in x or 'ETL' in x or 'Vision' in x:\n",
    "        return 'Data Analyst'\n",
    "    elif 'Scientist' in x or 'Head' in x or 'Science' in x or 'Machine' in x or 'Manager' in x or 'Specialist' in x:\n",
    "        return 'Data Scientist'\n",
    "    elif 'Engineer' in x or 'Architect' in x:\n",
    "        return 'Data Engineer'\n",
    "    \n",
    "    \n",
    "    \n",
    "    else:\n",
    "        return x"
   ]
  },
  {
   "cell_type": "markdown",
   "id": "b706124b",
   "metadata": {},
   "source": [
    "def limpiar_job_title(x):\n",
    "    if 'Analyst' in x:\n",
    "        return 'Data Analyst'\n",
    "    elif 'Data Architect' in x or 'Engineer' in x or 'Specialist' in x or 'ETL' in x or 'Researcher' in x:\n",
    "        return 'Data Engineer'\n",
    "    elif 'Scientist' in x or 'Machine Learning Developer' in x or 'Data Science Consultant' in x or 'Head' in x or 'Science' in x or 'Manager' in x:\n",
    "        return 'Data Scientist'\n",
    "    \n",
    "    \n",
    "    else:\n",
    "        return x"
   ]
  },
  {
   "cell_type": "markdown",
   "id": "4f41081e",
   "metadata": {},
   "source": [
    "def limpiar_job_title(x):\n",
    "    if 'Principal' in x or 'Director' in x or 'Head' in x:\n",
    "        return 'Data Director'\n",
    "    elif 'Manager' in x:\n",
    "        return 'Manager'\n",
    "    elif 'Analyst' in x:\n",
    "        return 'Data Analyst'\n",
    "    elif 'Data Architect' in x or 'Engineer' in x or 'Specialist' in x or 'ETL' in x or 'Researcher' in x:\n",
    "        return 'Data Engineer'\n",
    "    elif 'Scientist' in x or 'Machine Learning Developer' in x or 'Data Science Consultant' in x:\n",
    "        return 'Data Scientist'\n",
    "    \n",
    "    \n",
    "    else:\n",
    "        return x\n",
    "\n",
    "        "
   ]
  },
  {
   "cell_type": "code",
   "execution_count": null,
   "id": "d382a2c1",
   "metadata": {
    "scrolled": true
   },
   "outputs": [],
   "source": [
    "s_j = df_s.job_title.unique()\n",
    "s_j"
   ]
  },
  {
   "cell_type": "code",
   "execution_count": null,
   "id": "1f35dbb5",
   "metadata": {},
   "outputs": [],
   "source": [
    "len(s_j)"
   ]
  },
  {
   "cell_type": "code",
   "execution_count": null,
   "id": "d6921846",
   "metadata": {},
   "outputs": [],
   "source": [
    "df_t.job_title"
   ]
  },
  {
   "cell_type": "code",
   "execution_count": null,
   "id": "ef2ebd42",
   "metadata": {},
   "outputs": [],
   "source": [
    "df_t.job_title = df_t.job_title.apply(limpiar_job_title)"
   ]
  },
  {
   "cell_type": "code",
   "execution_count": null,
   "id": "cb9ffea9",
   "metadata": {},
   "outputs": [],
   "source": []
  },
  {
   "cell_type": "code",
   "execution_count": null,
   "id": "b7b84a1b",
   "metadata": {
    "scrolled": true
   },
   "outputs": [],
   "source": [
    "t_j = df_t.job_title.unique()\n",
    "t_j"
   ]
  },
  {
   "cell_type": "code",
   "execution_count": null,
   "id": "8dde1529",
   "metadata": {},
   "outputs": [],
   "source": [
    "df_t.job_title.value_counts()"
   ]
  },
  {
   "cell_type": "code",
   "execution_count": null,
   "id": "2fc832a1",
   "metadata": {},
   "outputs": [],
   "source": [
    "len(t_j)"
   ]
  },
  {
   "cell_type": "code",
   "execution_count": null,
   "id": "090aa9ee",
   "metadata": {},
   "outputs": [],
   "source": [
    "lst = []\n",
    "\n",
    "for i in s_j:\n",
    "    if i not in t_j:\n",
    "        lst.append(i)\n",
    "        \n",
    "lst"
   ]
  },
  {
   "cell_type": "code",
   "execution_count": null,
   "id": "6a061707",
   "metadata": {},
   "outputs": [],
   "source": [
    "lst2 = []\n",
    "\n",
    "for i in t_j:\n",
    "    if i not in s_j:\n",
    "        lst2.append(i)\n",
    "        \n",
    "lst2"
   ]
  },
  {
   "cell_type": "code",
   "execution_count": null,
   "id": "c2d5487c",
   "metadata": {},
   "outputs": [],
   "source": [
    "lista = []\n",
    "\n",
    "for i in df_s.job_title.unique():\n",
    "\n",
    "    linea = []\n",
    "    linea.append(i)\n",
    "    linea.append(df_s[df_s.job_title==i].salary_in_usd.mean())\n",
    "    linea.append(df_s[df_s.job_title == i].job_title.value_counts()[0])\n",
    "    lista.append(linea)\n",
    "\n",
    "df=pd.DataFrame(lista, columns=['job_title', 'average_salary', 'job_numbers'])\n",
    "df.sort_values('average_salary', ascending=False)"
   ]
  },
  {
   "cell_type": "code",
   "execution_count": null,
   "id": "df3e1e93",
   "metadata": {},
   "outputs": [],
   "source": [
    "dict_jt = pd.Series(df.average_salary.values,index=df.job_title).to_dict()\n",
    "dict_jt"
   ]
  },
  {
   "cell_type": "code",
   "execution_count": null,
   "id": "b035f879",
   "metadata": {},
   "outputs": [],
   "source": [
    "sm = df_s.salary_in_usd.mean()\n",
    "sm"
   ]
  },
  {
   "cell_type": "code",
   "execution_count": null,
   "id": "a65c1b20",
   "metadata": {},
   "outputs": [],
   "source": [
    "lst=[]\n",
    "\n",
    "for i in df_s.job_title:\n",
    "    x = dict_jt[i]/sm\n",
    "    lst.append(x)\n",
    "    \n",
    "lst"
   ]
  },
  {
   "cell_type": "code",
   "execution_count": null,
   "id": "be9398b1",
   "metadata": {},
   "outputs": [],
   "source": [
    "df_s['valor_jt']=lst"
   ]
  },
  {
   "cell_type": "code",
   "execution_count": null,
   "id": "2e908468",
   "metadata": {},
   "outputs": [],
   "source": [
    "lst=[]\n",
    "\n",
    "for i in df_t.job_title:\n",
    "    x = dict_jt[i]/sm\n",
    "    lst.append(x)\n",
    "    \n",
    "lst"
   ]
  },
  {
   "cell_type": "code",
   "execution_count": null,
   "id": "f0855663",
   "metadata": {},
   "outputs": [],
   "source": [
    "df_t['valor_jt']=lst"
   ]
  },
  {
   "cell_type": "code",
   "execution_count": null,
   "id": "6dbca7cc",
   "metadata": {},
   "outputs": [],
   "source": [
    "df_t"
   ]
  },
  {
   "cell_type": "code",
   "execution_count": null,
   "id": "6d5c4ea0",
   "metadata": {},
   "outputs": [],
   "source": [
    "lista = []\n",
    "\n",
    "for i in df_s.employee_residence.unique():\n",
    "\n",
    "    linea = []\n",
    "    linea.append(i)\n",
    "    linea.append(df_s[df_s.employee_residence==i].salary_in_usd.mean())\n",
    "    linea.append(df_s[df_s.employee_residence == i].employee_residence.value_counts()[0])\n",
    "    lista.append(linea)\n",
    "\n",
    "df=pd.DataFrame(lista, columns=['employee_residence', 'average_salary', 'employee_residence_number'])\n",
    "df.sort_values('average_salary', ascending=False)"
   ]
  },
  {
   "cell_type": "code",
   "execution_count": null,
   "id": "0bcef886",
   "metadata": {},
   "outputs": [],
   "source": [
    "def limpiar_employee_residence(x):\n",
    "    if x == 'US':\n",
    "        return 'US'\n",
    "    elif x == 'GB':\n",
    "        return 'GB'\n",
    "    elif x == 'IN':\n",
    "        return 'IN'    \n",
    "    elif x == 'CA':\n",
    "        return 'CA'   \n",
    "    elif x == 'DE':\n",
    "        return 'DE'   \n",
    "    elif x == 'FR':\n",
    "        return 'FR'   \n",
    "    elif x == 'ES':\n",
    "        return 'ES'   \n",
    "    elif x == 'GR':\n",
    "        return 'GR'   \n",
    "    elif x == 'PK':\n",
    "        return 'PK'   \n",
    "    elif x == 'PT':\n",
    "        return 'PT'   \n",
    "    elif x == 'BR':\n",
    "        return 'BR'   \n",
    "    elif x == 'NL':\n",
    "        return 'NL'   \n",
    "    elif x == 'JP':\n",
    "        return 'JP'   \n",
    "    else:\n",
    "        return 'other'\n",
    "    "
   ]
  },
  {
   "cell_type": "code",
   "execution_count": null,
   "id": "164e91e2",
   "metadata": {},
   "outputs": [],
   "source": [
    "df_s.employee_residence = df_s.employee_residence.apply(limpiar_employee_residence)"
   ]
  },
  {
   "cell_type": "code",
   "execution_count": null,
   "id": "647d1eac",
   "metadata": {},
   "outputs": [],
   "source": [
    "df_s.employee_residence.value_counts()"
   ]
  },
  {
   "cell_type": "code",
   "execution_count": null,
   "id": "4d42591e",
   "metadata": {},
   "outputs": [],
   "source": [
    "lista = []\n",
    "\n",
    "for i in df_s.employee_residence.unique():\n",
    "\n",
    "    linea = []\n",
    "    linea.append(i)\n",
    "    linea.append(df_s[df_s.employee_residence==i].salary_in_usd.mean())\n",
    "    linea.append(df_s[df_s.employee_residence == i].employee_residence.value_counts()[0])\n",
    "    lista.append(linea)\n",
    "\n",
    "df=pd.DataFrame(lista, columns=['employee_residence', 'average_salary', 'employee_residence_number'])\n",
    "df.sort_values('average_salary', ascending=False)"
   ]
  },
  {
   "cell_type": "code",
   "execution_count": null,
   "id": "3e2de577",
   "metadata": {},
   "outputs": [],
   "source": [
    "df_t.employee_residence = df_t.employee_residence.apply(limpiar_employee_residence)"
   ]
  },
  {
   "cell_type": "code",
   "execution_count": null,
   "id": "69be4949",
   "metadata": {},
   "outputs": [],
   "source": [
    "df_t.employee_residence.value_counts()"
   ]
  },
  {
   "cell_type": "code",
   "execution_count": null,
   "id": "aaf6d1fa",
   "metadata": {},
   "outputs": [],
   "source": [
    "df"
   ]
  },
  {
   "cell_type": "code",
   "execution_count": null,
   "id": "7745b33f",
   "metadata": {},
   "outputs": [],
   "source": [
    "dict_c = pd.Series(df.average_salary.values,index=df.employee_residence).to_dict()\n",
    "dict_c"
   ]
  },
  {
   "cell_type": "code",
   "execution_count": null,
   "id": "b5878cdb",
   "metadata": {},
   "outputs": [],
   "source": [
    "sm = df_s.salary_in_usd.mean()\n",
    "sm"
   ]
  },
  {
   "cell_type": "code",
   "execution_count": null,
   "id": "247af426",
   "metadata": {},
   "outputs": [],
   "source": [
    "lst=[]\n",
    "\n",
    "for i in df_s.employee_residence:\n",
    "    x = dict_c[i]/sm\n",
    "    lst.append(x)\n",
    "    \n",
    "lst"
   ]
  },
  {
   "cell_type": "code",
   "execution_count": null,
   "id": "13aa72f5",
   "metadata": {},
   "outputs": [],
   "source": [
    "df_s['valor_residencia']=lst"
   ]
  },
  {
   "cell_type": "code",
   "execution_count": null,
   "id": "8f78836d",
   "metadata": {},
   "outputs": [],
   "source": [
    "lst=[]\n",
    "\n",
    "for i in df_t.employee_residence:\n",
    "    x = dict_c[i]/sm\n",
    "    lst.append(x)\n",
    "    \n",
    "lst"
   ]
  },
  {
   "cell_type": "code",
   "execution_count": null,
   "id": "dfde386b",
   "metadata": {},
   "outputs": [],
   "source": [
    "df_t['valor_residencia']=lst"
   ]
  },
  {
   "cell_type": "code",
   "execution_count": null,
   "id": "ab277c13",
   "metadata": {},
   "outputs": [],
   "source": [
    "df_s.company_location.unique()"
   ]
  },
  {
   "cell_type": "code",
   "execution_count": null,
   "id": "af2b3387",
   "metadata": {},
   "outputs": [],
   "source": [
    "df_s.company_location = df_s.company_location.apply(limpiar_employee_residence)"
   ]
  },
  {
   "cell_type": "code",
   "execution_count": null,
   "id": "a62c9358",
   "metadata": {},
   "outputs": [],
   "source": [
    "df_t.company_location = df_t.company_location.apply(limpiar_employee_residence)"
   ]
  },
  {
   "cell_type": "code",
   "execution_count": null,
   "id": "7e3a9ddc",
   "metadata": {},
   "outputs": [],
   "source": [
    "lista = []\n",
    "\n",
    "for i in df_s.company_location.unique():\n",
    "\n",
    "    linea = []\n",
    "    linea.append(i)\n",
    "    linea.append(df_s[df_s.company_location==i].salary_in_usd.mean())\n",
    "    linea.append(df_s[df_s.company_location == i].company_location.value_counts()[0])\n",
    "    lista.append(linea)\n",
    "\n",
    "df=pd.DataFrame(lista, columns=['company_location', 'average_salary', 'company_location_number'])\n",
    "df.sort_values('average_salary', ascending=False)"
   ]
  },
  {
   "cell_type": "code",
   "execution_count": null,
   "id": "134f2d9e",
   "metadata": {},
   "outputs": [],
   "source": [
    "dict_cl = pd.Series(df.average_salary.values,index=df.company_location).to_dict()\n",
    "dict_cl"
   ]
  },
  {
   "cell_type": "code",
   "execution_count": null,
   "id": "8aeff863",
   "metadata": {},
   "outputs": [],
   "source": [
    "lst=[]\n",
    "\n",
    "for i in df_s.company_location:\n",
    "    x = dict_cl[i]/sm\n",
    "    lst.append(x)\n",
    "    \n",
    "lst"
   ]
  },
  {
   "cell_type": "code",
   "execution_count": null,
   "id": "d35e772e",
   "metadata": {},
   "outputs": [],
   "source": [
    "#df_s['valor_company_location']=lst"
   ]
  },
  {
   "cell_type": "code",
   "execution_count": null,
   "id": "e9d56ef1",
   "metadata": {},
   "outputs": [],
   "source": [
    "lst2=[]\n",
    "\n",
    "for i in df_t.company_location:\n",
    "    x = dict_cl[i]/sm\n",
    "    lst2.append(x)\n",
    "    \n",
    "len(lst2)"
   ]
  },
  {
   "cell_type": "code",
   "execution_count": null,
   "id": "91c0f107",
   "metadata": {},
   "outputs": [],
   "source": [
    "#df_t['valor_company_location']=lst2"
   ]
  },
  {
   "cell_type": "code",
   "execution_count": null,
   "id": "3e6cf454",
   "metadata": {},
   "outputs": [],
   "source": [
    "df_s.salary_currency.value_counts()"
   ]
  },
  {
   "cell_type": "code",
   "execution_count": null,
   "id": "04c05518",
   "metadata": {},
   "outputs": [],
   "source": [
    "sns.set(style='white')\n",
    "\n",
    "mask=np.triu(np.ones_like(df_s.corr(), dtype=bool))\n",
    "\n",
    "cmap=sns.diverging_palette(0, 10, as_cmap=True)\n",
    "\n",
    "\n",
    "sns.heatmap(df_s.corr(),\n",
    "           mask=mask,\n",
    "          cmap=cmap,\n",
    "          center=0,\n",
    "          square=True,\n",
    "          annot=True,\n",
    "          linewidths=0.5,\n",
    "          cbar_kws={'shrink': 0.5});"
   ]
  },
  {
   "cell_type": "code",
   "execution_count": null,
   "id": "eda168e1",
   "metadata": {},
   "outputs": [],
   "source": [
    "df_st = pd.concat([df_s, df_t])"
   ]
  },
  {
   "cell_type": "code",
   "execution_count": null,
   "id": "d8736018",
   "metadata": {},
   "outputs": [],
   "source": [
    "df_st.head()"
   ]
  },
  {
   "cell_type": "code",
   "execution_count": null,
   "id": "3a91e647",
   "metadata": {},
   "outputs": [],
   "source": [
    "# normalizacion, Normal(0, 1)\n",
    "\n",
    "from sklearn.preprocessing import StandardScaler\n",
    "\n",
    "scaler=StandardScaler()\n",
    "\n",
    "df_st[['work_year', \n",
    "         'remote_ratio', \n",
    "        'valor_residencia', \n",
    "       'valor_jt',\n",
    "       #'valor_company_location'\n",
    "      ]] = scaler.fit_transform(df_st[['work_year', \n",
    "                                       'remote_ratio', \n",
    "                                       'valor_residencia', \n",
    "                                       'valor_jt',\n",
    "                                       #'valor_company_location'\n",
    "                                      ]])\n"
   ]
  },
  {
   "cell_type": "code",
   "execution_count": null,
   "id": "e6e84167",
   "metadata": {},
   "outputs": [],
   "source": [
    "from sklearn.preprocessing import LabelEncoder, OrdinalEncoder"
   ]
  },
  {
   "cell_type": "code",
   "execution_count": null,
   "id": "67223396",
   "metadata": {},
   "outputs": [],
   "source": [
    "from sklearn.preprocessing import LabelEncoder, OrdinalEncoder\n",
    "\n",
    "df_st.experience_level=LabelEncoder().fit_transform(df_st.experience_level)\n",
    "df_st.employment_type=LabelEncoder().fit_transform(df_st.employment_type)\n",
    "df_st.job_title=LabelEncoder().fit_transform(df_st.job_title)\n",
    "df_st.salary_currency=LabelEncoder().fit_transform(df_st.salary_currency)\n",
    "df_st.employee_residence=LabelEncoder().fit_transform(df_st.employee_residence)\n",
    "df_st.company_location=LabelEncoder().fit_transform(df_st.company_location)\n",
    "df_st.company_size=LabelEncoder().fit_transform(df_st.company_size)\n",
    "\n",
    "\n",
    "df_st.head()"
   ]
  },
  {
   "cell_type": "code",
   "execution_count": null,
   "id": "981714ee",
   "metadata": {},
   "outputs": [],
   "source": [
    "#df_st=pd.get_dummies(df_st, columns=['experience_level', 'employment_type', 'job_title', \\\n",
    "##                                   'salary_currency', 'employee_residence', 'company_location',\n",
    "#                                   'company_size' ], drop_first=True)\n",
    "\n",
    "#df_st.head()"
   ]
  },
  {
   "cell_type": "code",
   "execution_count": null,
   "id": "51ece0dd",
   "metadata": {},
   "outputs": [],
   "source": []
  },
  {
   "cell_type": "code",
   "execution_count": null,
   "id": "153104ae",
   "metadata": {},
   "outputs": [],
   "source": [
    "plt.figure(figsize=(20, 15))\n",
    "\n",
    "sns.set(style='white')\n",
    "\n",
    "mask=np.triu(np.ones_like(df_st.corr(), dtype=bool))\n",
    "\n",
    "cmap=sns.diverging_palette(0, 10, as_cmap=True)\n",
    "\n",
    "\n",
    "sns.heatmap(df_st.corr(),\n",
    "           mask=mask,\n",
    "          cmap=cmap,\n",
    "          center=0,\n",
    "          square=True,\n",
    "          annot=True,\n",
    "          linewidths=0.5,\n",
    "          cbar_kws={'shrink': 0.5});"
   ]
  },
  {
   "cell_type": "code",
   "execution_count": null,
   "id": "751978ad",
   "metadata": {},
   "outputs": [],
   "source": [
    "# df_st = df_st.drop(['company_location'], axis=1)"
   ]
  },
  {
   "cell_type": "code",
   "execution_count": null,
   "id": "8e7cabf7",
   "metadata": {},
   "outputs": [],
   "source": [
    "df_st.head()"
   ]
  },
  {
   "cell_type": "code",
   "execution_count": null,
   "id": "5df4fbe5",
   "metadata": {},
   "outputs": [],
   "source": [
    "# df_st = df_st.drop(['job_title', 'employee_residence', 'company_location'], axis=1)"
   ]
  },
  {
   "cell_type": "code",
   "execution_count": null,
   "id": "aff9fc05",
   "metadata": {},
   "outputs": [],
   "source": [
    "df_st"
   ]
  },
  {
   "cell_type": "code",
   "execution_count": null,
   "id": "6b00c638",
   "metadata": {},
   "outputs": [],
   "source": [
    "df_t = df_st[-107:]\n",
    "df_t.head()"
   ]
  },
  {
   "cell_type": "code",
   "execution_count": null,
   "id": "de3bf434",
   "metadata": {},
   "outputs": [],
   "source": [
    "df_s = df_st[:-107]\n",
    "df_s.head()"
   ]
  },
  {
   "cell_type": "code",
   "execution_count": null,
   "id": "78e682ba",
   "metadata": {},
   "outputs": [],
   "source": [
    "df_t = df_t.drop(['salary_in_usd'], axis=1)\n",
    "df_t"
   ]
  },
  {
   "cell_type": "code",
   "execution_count": null,
   "id": "66ba9e3e",
   "metadata": {},
   "outputs": [],
   "source": [
    "X = df_s.drop(['salary_in_usd'], axis=1)\n",
    "y = df_s.salary_in_usd"
   ]
  },
  {
   "cell_type": "code",
   "execution_count": null,
   "id": "5e687394",
   "metadata": {},
   "outputs": [],
   "source": [
    "X.head()"
   ]
  },
  {
   "cell_type": "code",
   "execution_count": null,
   "id": "12db7564",
   "metadata": {},
   "outputs": [],
   "source": [
    "y.head()"
   ]
  },
  {
   "cell_type": "code",
   "execution_count": null,
   "id": "a02f5997",
   "metadata": {},
   "outputs": [],
   "source": [
    "from sklearn.model_selection import train_test_split as tts"
   ]
  },
  {
   "cell_type": "code",
   "execution_count": null,
   "id": "0152eea1",
   "metadata": {},
   "outputs": [],
   "source": [
    "#X_train, X_test, y_train, y_test = tts(X, y, train_size=0.8, test_size=0.2, random_state=22)\n",
    "#\n",
    "#X_train.shape, X_test.shape, y_train.shape, y_test.shape"
   ]
  },
  {
   "cell_type": "code",
   "execution_count": null,
   "id": "44d7650c",
   "metadata": {},
   "outputs": [],
   "source": [
    "#%pip install xgboost\n",
    "\n",
    "#%pip install catboost\n",
    "\n",
    "#%pip install lightgbm\n",
    "\n",
    "\n",
    "from sklearn.linear_model import LinearRegression as LinReg\n",
    "\n",
    "from sklearn.linear_model import Lasso        # regularizacion L1\n",
    "from sklearn.linear_model import Ridge        # regularizacion L2\n",
    "from sklearn.linear_model import ElasticNet   # regularizacion L1+L2\n",
    "\n",
    "from sklearn.svm import SVR  # support vector regressor\n",
    "\n",
    "from sklearn.ensemble import RandomForestRegressor as RFR  \n",
    "from sklearn.tree import ExtraTreeRegressor as ETR\n",
    "\n",
    "from sklearn.ensemble import GradientBoostingRegressor as GBR\n",
    "\n",
    "from xgboost import XGBRegressor as XGBR\n",
    "\n",
    "from catboost import CatBoostRegressor as CTR\n",
    "\n",
    "from lightgbm import LGBMRegressor as LGBMR\n",
    "\n",
    "from sklearn.metrics import mean_absolute_error as mae\n",
    "\n",
    "from sklearn.metrics import r2_score as r2\n",
    "\n",
    "from sklearn.metrics import mean_squared_error as mse\n",
    "\n"
   ]
  },
  {
   "cell_type": "code",
   "execution_count": null,
   "id": "0ad03484",
   "metadata": {},
   "outputs": [],
   "source": [
    "lista = []\n",
    "linreg=LinReg()\n",
    "lasso=Lasso()\n",
    "ridge=Ridge()\n",
    "elastic=ElasticNet()\n",
    "svr=SVR()\n",
    "rfr=RFR()\n",
    "etr=ETR()\n",
    "gbr=GBR()\n",
    "xgbr=XGBR()\n",
    "ctr=CTR()\n",
    "lgbmr=LGBMR()"
   ]
  },
  {
   "cell_type": "code",
   "execution_count": null,
   "id": "c4f191af",
   "metadata": {},
   "outputs": [],
   "source": [
    "def coach_models(X_train, y_train, X_test, y_test):\n",
    "    lista = []\n",
    "    linreg=LinReg()\n",
    "    lasso=Lasso()\n",
    "    ridge=Ridge()\n",
    "    elastic=ElasticNet()\n",
    "    svr=SVR()\n",
    "    rfr=RFR()\n",
    "    etr=ETR()\n",
    "    gbr=GBR()\n",
    "    xgbr=XGBR()\n",
    "    ctr=CTR()\n",
    "    lgbmr=LGBMR()\n",
    "    \n",
    "    modelos=[linreg, lasso, ridge, elastic, svr, rfr, etr, gbr, xgbr, ctr,  lgbmr]\n",
    "    n_modelos=['linreg', 'lasso', 'ridge', 'elastic', 'svr', 'rfr', 'etr', 'gbr', 'xgbr', 'ctr', 'lgbmr']\n",
    "    \n",
    "    for i, m in enumerate(modelos):\n",
    "        linea = []\n",
    "        linea.append(n_modelos[i])\n",
    "        \n",
    "        if n_modelos[i] == 'ctr':\n",
    "            m.fit(X_train, y_train, verbose=0)\n",
    "            m.predict(X_test)\n",
    "            y_pred=m.predict(X_test)\n",
    "            e1 = mse(y_test, y_pred, squared=False)\n",
    "            e2 = mae(y_test, y_pred)\n",
    "            e3 = r2(y_test, y_pred)\n",
    "        else:\n",
    "            m.fit(X_train, y_train)\n",
    "            m.predict(X_test)\n",
    "            y_pred=m.predict(X_test)\n",
    "            e1 = mse(y_test, y_pred, squared=False)\n",
    "            e2 = mae(y_test, y_pred)\n",
    "            e3 = r2(y_test, y_pred)\n",
    "        linea.append(e1)\n",
    "        linea.append(e2)\n",
    "        linea.append(e3)\n",
    "        lista.append(linea)\n",
    "    df=pd.DataFrame(lista, columns=['modelo', 'rmse', 'mae', 'r2'])\n",
    "    return df"
   ]
  },
  {
   "cell_type": "code",
   "execution_count": null,
   "id": "e79ef00e",
   "metadata": {},
   "outputs": [],
   "source": [
    "#coach_models(X_train, y_train, X_test, y_test)"
   ]
  },
  {
   "cell_type": "code",
   "execution_count": null,
   "id": "0cd7f2bb",
   "metadata": {},
   "outputs": [],
   "source": [
    "coach_models(X, y, X, y)"
   ]
  },
  {
   "cell_type": "markdown",
   "id": "8841862b",
   "metadata": {},
   "source": [
    "    linreg=LinReg()\n",
    "    lasso=Lasso()\n",
    "    ridge=Ridge()\n",
    "    elastic=ElasticNet()\n",
    "    svr=SVR()\n",
    "    rfr=RFR()\n",
    "    etr=ETR()\n",
    "    gbr=GBR()\n",
    "    xgbr=XGBR()\n",
    "    ctr=CTR()\n",
    "    lgbmr=LGBMR()"
   ]
  },
  {
   "cell_type": "code",
   "execution_count": null,
   "id": "70fa8a08",
   "metadata": {},
   "outputs": [],
   "source": [
    "gbr.fit(X, y)"
   ]
  },
  {
   "cell_type": "markdown",
   "id": "83780d50",
   "metadata": {},
   "source": [
    "linreg=LinReg()\n",
    "lasso=Lasso()\n",
    "ridge=Ridge()\n",
    "elastic=ElasticNet()\n",
    "svr=SVR()\n",
    "rfr=RFR()\n",
    "etr=ETR()\n",
    "gbr=GBR()\n",
    "xgbr=XGBR()\n",
    "lgbmr=LGBMR()\n",
    "\n",
    "modelos=[linreg, lasso, ridge, elastic, svr, rfr, etr, gbr, xgbr, lgbmr]\n",
    "\n",
    "for m in modelos:\n",
    "    m.fit(X_train, y_train)\n",
    "    y_pred=m.predict(X_test)\n",
    "    error_mse = mse(y_test, y_pred)\n",
    "    error_rmse = mse(y_test, y_pred, squared=False)\n",
    "    error_mae = mae(y_test, y_pred)\n",
    "    error_r2 = r2(y_test, y_pred)\n",
    "    \n",
    "    print('Modelo', m, 'error mse', error_mse, 'error rmse', error_rmse, 'error mae', error_mae, 'error r2', error_r2)\n",
    "  "
   ]
  },
  {
   "cell_type": "code",
   "execution_count": null,
   "id": "eb11590e",
   "metadata": {},
   "outputs": [],
   "source": [
    "import statsmodels.api as sm\n",
    "from statsmodels.formula.api import ols"
   ]
  },
  {
   "cell_type": "code",
   "execution_count": null,
   "id": "55943c77",
   "metadata": {},
   "outputs": [],
   "source": [
    "x=sm.add_constant(df_s[[\n",
    "    \n",
    "    'work_year',\n",
    "    'experience_level',\n",
    "    'employment_type',\n",
    "    'job_title',\n",
    "    #'salary',\n",
    "    'salary_currency',\n",
    "    'employee_residence',\n",
    "    'remote_ratio',\n",
    "    'company_location',\n",
    "    'company_size'\n",
    "    \n",
    "]])\n",
    "\n",
    "\n",
    "\n",
    "y=df_s.salary_in_usd\n",
    "\n",
    "\n",
    "modelo=sm.OLS(y, x).fit()\n",
    "\n",
    "pred=modelo.predict(x)\n",
    "\n",
    "modelo.summary()"
   ]
  },
  {
   "cell_type": "code",
   "execution_count": null,
   "id": "6f96a076",
   "metadata": {},
   "outputs": [],
   "source": [
    "# %pip install lazypredict"
   ]
  },
  {
   "cell_type": "code",
   "execution_count": null,
   "id": "480ea949",
   "metadata": {},
   "outputs": [],
   "source": [
    "X.head()"
   ]
  },
  {
   "cell_type": "code",
   "execution_count": null,
   "id": "0765d52e",
   "metadata": {},
   "outputs": [],
   "source": [
    "from lazypredict.Supervised import LazyRegressor\n",
    "from sklearn import datasets\n",
    "from sklearn.utils import shuffle\n",
    "import numpy as np\n",
    "\n",
    "reg = LazyRegressor(verbose=0, ignore_warnings=False, custom_metric=None)\n",
    "models, predictions = reg.fit(X, X, y, y)\n",
    "print(models)"
   ]
  },
  {
   "cell_type": "markdown",
   "id": "c82e4e2c",
   "metadata": {},
   "source": [
    "### PREPARACIÓN MUESTRA PARA KAGGLE"
   ]
  },
  {
   "cell_type": "code",
   "execution_count": null,
   "id": "92deac01",
   "metadata": {},
   "outputs": [],
   "source": [
    "df_t"
   ]
  },
  {
   "cell_type": "code",
   "execution_count": null,
   "id": "ecde22ca",
   "metadata": {},
   "outputs": [],
   "source": [
    "X"
   ]
  },
  {
   "cell_type": "code",
   "execution_count": null,
   "id": "247d759e",
   "metadata": {},
   "outputs": [],
   "source": [
    "gbr.predict(df_t)"
   ]
  },
  {
   "cell_type": "code",
   "execution_count": null,
   "id": "e19ac226",
   "metadata": {},
   "outputs": [],
   "source": [
    "y_pred = gbr.predict(df_t)\n",
    "y_pred[:10]"
   ]
  },
  {
   "cell_type": "code",
   "execution_count": null,
   "id": "af49054e",
   "metadata": {},
   "outputs": [],
   "source": [
    "len(y_pred)"
   ]
  },
  {
   "cell_type": "code",
   "execution_count": null,
   "id": "b94fedda",
   "metadata": {},
   "outputs": [],
   "source": [
    "df_m"
   ]
  },
  {
   "cell_type": "code",
   "execution_count": null,
   "id": "5b490a0a",
   "metadata": {},
   "outputs": [],
   "source": [
    "df_m['salary_in_usd'] = y_pred\n",
    "df_m"
   ]
  },
  {
   "cell_type": "code",
   "execution_count": null,
   "id": "cfd5cca2",
   "metadata": {},
   "outputs": [],
   "source": [
    "#df_m.to_csv('pred_DTS_13.csv', index=False)"
   ]
  },
  {
   "cell_type": "code",
   "execution_count": null,
   "id": "1b89fe04",
   "metadata": {},
   "outputs": [],
   "source": [
    "#df_m.head()"
   ]
  },
  {
   "cell_type": "code",
   "execution_count": null,
   "id": "0703dfd9",
   "metadata": {},
   "outputs": [],
   "source": []
  },
  {
   "cell_type": "code",
   "execution_count": null,
   "id": "ca53b8e6",
   "metadata": {},
   "outputs": [],
   "source": []
  }
 ],
 "metadata": {
  "kernelspec": {
   "display_name": "clase",
   "language": "python",
   "name": "clase"
  },
  "language_info": {
   "codemirror_mode": {
    "name": "ipython",
    "version": 3
   },
   "file_extension": ".py",
   "mimetype": "text/x-python",
   "name": "python",
   "nbconvert_exporter": "python",
   "pygments_lexer": "ipython3",
   "version": "3.7.13"
  }
 },
 "nbformat": 4,
 "nbformat_minor": 5
}
